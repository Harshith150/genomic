{
 "cells": [
  {
   "cell_type": "code",
   "execution_count": 31,
   "metadata": {},
   "outputs": [],
   "source": [
    "import pandas as pd\n",
    "from sklearn.preprocessing import MinMaxScaler\n",
    "from sklearn.preprocessing import StandardScaler\n",
    "from imblearn.over_sampling import RandomOverSampler, SMOTE, ADASYN\n",
    "from sklearn.model_selection import train_test_split\n",
    "from sklearn.ensemble import RandomForestClassifier\n",
    "from sklearn.metrics import accuracy_score,mean_absolute_error\n",
    "import matplotlib.pyplot as plt\n",
    "import seaborn as sns\n",
    "import pandas as pd\n",
    "import numpy as np\n",
    "from flask import jsonify,send_file\n",
    "import pickle\n",
    "import json\n",
    "from tensorflow.keras.models import load_model\n",
    "from joblib import dump,load\n",
    "from sklearn.model_selection import KFold,cross_val_score\n",
    "import joblib"
   ]
  },
  {
   "cell_type": "code",
   "execution_count": 32,
   "metadata": {},
   "outputs": [
    {
     "name": "stdout",
     "output_type": "stream",
     "text": [
      "Accuracy: 0.719 (0.039)\n"
     ]
    },
    {
     "data": {
      "text/plain": [
       "'\\nx_train,x_test,y_train,y_test=train_test_split(X_resampled,y_resampled,random_state=42,test_size=0.33) \\nmodel_r.fit(x_train,y_train)\\ns_pred=model_r.predict(x) \\nr_pred=model_r.predict(x_test)\\nprint(accuracy_score(y_test,r_pred))\\n\\n'"
      ]
     },
     "execution_count": 32,
     "metadata": {},
     "output_type": "execute_result"
    }
   ],
   "source": [
    "df=pd.read_csv(\"D:\\\\genomic prediction\\\\ui\\\\data\\\\ddata.csv\") \n",
    "df=df.drop(columns=['Unnamed: 0'])\n",
    "x=df.iloc[:,:-2]\n",
    "y=df.iloc[:,-2]\n",
    "z=df.iloc[:,-1]\n",
    "smote = SMOTE(random_state=42)\n",
    "X_resampled, y_resampled = smote.fit_resample(x, y)\n",
    "\n",
    "model_r=RandomForestClassifier(n_estimators=7,max_depth=9,random_state=42,criterion=\"gini\",max_features='sqrt',max_leaf_nodes=30) \n",
    "\n",
    "cv = KFold(n_splits=10, random_state=1, shuffle=True)\n",
    "scores = cross_val_score(model_r, X_resampled, y_resampled, scoring='accuracy', cv=cv, n_jobs=-1)\n",
    "print('Accuracy: %.3f (%.3f)' % (np.mean(scores), np.std(scores)))\n",
    "\n",
    "\n",
    "\"\"\"\n",
    "x_train,x_test,y_train,y_test=train_test_split(X_resampled,y_resampled,random_state=42,test_size=0.33) \n",
    "model_r.fit(x_train,y_train)\n",
    "s_pred=model_r.predict(x) \n",
    "r_pred=model_r.predict(x_test)\n",
    "print(accuracy_score(y_test,r_pred))\n",
    "\n",
    "\"\"\"\n"
   ]
  },
  {
   "cell_type": "code",
   "execution_count": 33,
   "metadata": {},
   "outputs": [
    {
     "data": {
      "text/plain": [
       "['model_r.pkl']"
      ]
     },
     "execution_count": 33,
     "metadata": {},
     "output_type": "execute_result"
    }
   ],
   "source": [
    "model_r.fit( X_resampled,y_resampled)\n",
    "joblib.dump(model_r, 'model_r.pkl')"
   ]
  },
  {
   "cell_type": "code",
   "execution_count": 34,
   "metadata": {},
   "outputs": [],
   "source": [
    "s_pred=model_r.predict(x) "
   ]
  },
  {
   "cell_type": "code",
   "execution_count": 47,
   "metadata": {},
   "outputs": [],
   "source": [
    "s_pred=list(s_pred)\n",
    "df_h=pd.DataFrame(df.iloc[:,:-2]) \n",
    "df_h['sub']=s_pred \n",
    "df_h['sub']=df_h['sub'].astype(\"category\").cat.codes +1  \n",
    "df_h['height']=z\n",
    "df_h.columns=df_h.columns.astype(str)   \n",
    "\n",
    "def Outlier_Treatment(df1,variable):\n",
    "    percentile25=df1[variable].quantile(0.25)  #q1\n",
    "    percentile75=df1[variable].quantile(0.75)  #q3\n",
    "    iqr=percentile75-percentile25\n",
    "    upper_limit=percentile75+1.5*iqr\n",
    "    lower_limit=percentile25-1.5*iqr\n",
    "    df_final = df1[ (df1[variable]>=lower_limit) & (df1[variable]<=upper_limit) ]\n",
    "    return df_final\n",
    "\n",
    "df_final=Outlier_Treatment(df_h,'height')\n",
    "\n",
    "xh=df_final.iloc[:,:-1]\n",
    "yh=df_final.iloc[:,-1] \n",
    "\n",
    "\n"
   ]
  },
  {
   "cell_type": "code",
   "execution_count": 64,
   "metadata": {},
   "outputs": [
    {
     "data": {
      "text/html": [
       "<div>\n",
       "<style scoped>\n",
       "    .dataframe tbody tr th:only-of-type {\n",
       "        vertical-align: middle;\n",
       "    }\n",
       "\n",
       "    .dataframe tbody tr th {\n",
       "        vertical-align: top;\n",
       "    }\n",
       "\n",
       "    .dataframe thead th {\n",
       "        text-align: right;\n",
       "    }\n",
       "</style>\n",
       "<table border=\"1\" class=\"dataframe\">\n",
       "  <thead>\n",
       "    <tr style=\"text-align: right;\">\n",
       "      <th></th>\n",
       "      <th>0</th>\n",
       "      <th>1</th>\n",
       "      <th>2</th>\n",
       "      <th>3</th>\n",
       "      <th>4</th>\n",
       "      <th>5</th>\n",
       "      <th>6</th>\n",
       "      <th>7</th>\n",
       "      <th>8</th>\n",
       "      <th>sub</th>\n",
       "      <th>height</th>\n",
       "    </tr>\n",
       "  </thead>\n",
       "  <tbody>\n",
       "    <tr>\n",
       "      <th>0</th>\n",
       "      <td>0.75</td>\n",
       "      <td>0.5</td>\n",
       "      <td>0.5</td>\n",
       "      <td>2.50</td>\n",
       "      <td>2.5</td>\n",
       "      <td>2.5</td>\n",
       "      <td>0.5</td>\n",
       "      <td>2.5</td>\n",
       "      <td>2.5</td>\n",
       "      <td>1</td>\n",
       "      <td>145.80</td>\n",
       "    </tr>\n",
       "    <tr>\n",
       "      <th>1</th>\n",
       "      <td>0.75</td>\n",
       "      <td>0.5</td>\n",
       "      <td>0.5</td>\n",
       "      <td>2.50</td>\n",
       "      <td>2.5</td>\n",
       "      <td>2.5</td>\n",
       "      <td>2.5</td>\n",
       "      <td>2.5</td>\n",
       "      <td>2.5</td>\n",
       "      <td>4</td>\n",
       "      <td>185.60</td>\n",
       "    </tr>\n",
       "    <tr>\n",
       "      <th>2</th>\n",
       "      <td>0.75</td>\n",
       "      <td>0.5</td>\n",
       "      <td>0.5</td>\n",
       "      <td>2.50</td>\n",
       "      <td>2.5</td>\n",
       "      <td>2.5</td>\n",
       "      <td>2.5</td>\n",
       "      <td>2.5</td>\n",
       "      <td>2.5</td>\n",
       "      <td>4</td>\n",
       "      <td>203.60</td>\n",
       "    </tr>\n",
       "    <tr>\n",
       "      <th>3</th>\n",
       "      <td>0.75</td>\n",
       "      <td>0.5</td>\n",
       "      <td>0.5</td>\n",
       "      <td>2.50</td>\n",
       "      <td>2.5</td>\n",
       "      <td>2.5</td>\n",
       "      <td>2.5</td>\n",
       "      <td>2.5</td>\n",
       "      <td>2.5</td>\n",
       "      <td>4</td>\n",
       "      <td>190.20</td>\n",
       "    </tr>\n",
       "    <tr>\n",
       "      <th>4</th>\n",
       "      <td>0.75</td>\n",
       "      <td>0.5</td>\n",
       "      <td>0.5</td>\n",
       "      <td>2.50</td>\n",
       "      <td>2.5</td>\n",
       "      <td>2.5</td>\n",
       "      <td>2.5</td>\n",
       "      <td>2.5</td>\n",
       "      <td>2.5</td>\n",
       "      <td>4</td>\n",
       "      <td>193.80</td>\n",
       "    </tr>\n",
       "    <tr>\n",
       "      <th>...</th>\n",
       "      <td>...</td>\n",
       "      <td>...</td>\n",
       "      <td>...</td>\n",
       "      <td>...</td>\n",
       "      <td>...</td>\n",
       "      <td>...</td>\n",
       "      <td>...</td>\n",
       "      <td>...</td>\n",
       "      <td>...</td>\n",
       "      <td>...</td>\n",
       "      <td>...</td>\n",
       "    </tr>\n",
       "    <tr>\n",
       "      <th>524</th>\n",
       "      <td>0.75</td>\n",
       "      <td>0.5</td>\n",
       "      <td>2.5</td>\n",
       "      <td>0.75</td>\n",
       "      <td>1.5</td>\n",
       "      <td>1.5</td>\n",
       "      <td>0.5</td>\n",
       "      <td>0.5</td>\n",
       "      <td>0.5</td>\n",
       "      <td>8</td>\n",
       "      <td>192.07</td>\n",
       "    </tr>\n",
       "    <tr>\n",
       "      <th>525</th>\n",
       "      <td>0.75</td>\n",
       "      <td>0.5</td>\n",
       "      <td>2.5</td>\n",
       "      <td>2.50</td>\n",
       "      <td>1.5</td>\n",
       "      <td>1.5</td>\n",
       "      <td>0.5</td>\n",
       "      <td>0.5</td>\n",
       "      <td>0.5</td>\n",
       "      <td>8</td>\n",
       "      <td>196.80</td>\n",
       "    </tr>\n",
       "    <tr>\n",
       "      <th>526</th>\n",
       "      <td>0.75</td>\n",
       "      <td>0.5</td>\n",
       "      <td>2.5</td>\n",
       "      <td>2.50</td>\n",
       "      <td>1.5</td>\n",
       "      <td>1.5</td>\n",
       "      <td>0.5</td>\n",
       "      <td>0.5</td>\n",
       "      <td>0.5</td>\n",
       "      <td>8</td>\n",
       "      <td>206.73</td>\n",
       "    </tr>\n",
       "    <tr>\n",
       "      <th>527</th>\n",
       "      <td>0.75</td>\n",
       "      <td>0.5</td>\n",
       "      <td>2.5</td>\n",
       "      <td>2.50</td>\n",
       "      <td>1.5</td>\n",
       "      <td>1.5</td>\n",
       "      <td>0.5</td>\n",
       "      <td>0.5</td>\n",
       "      <td>0.5</td>\n",
       "      <td>8</td>\n",
       "      <td>172.46</td>\n",
       "    </tr>\n",
       "    <tr>\n",
       "      <th>528</th>\n",
       "      <td>1.50</td>\n",
       "      <td>0.5</td>\n",
       "      <td>0.5</td>\n",
       "      <td>0.75</td>\n",
       "      <td>1.5</td>\n",
       "      <td>2.5</td>\n",
       "      <td>0.5</td>\n",
       "      <td>2.5</td>\n",
       "      <td>2.5</td>\n",
       "      <td>6</td>\n",
       "      <td>149.80</td>\n",
       "    </tr>\n",
       "  </tbody>\n",
       "</table>\n",
       "<p>528 rows × 11 columns</p>\n",
       "</div>"
      ],
      "text/plain": [
       "        0    1    2     3    4    5    6    7    8  sub  height\n",
       "0    0.75  0.5  0.5  2.50  2.5  2.5  0.5  2.5  2.5    1  145.80\n",
       "1    0.75  0.5  0.5  2.50  2.5  2.5  2.5  2.5  2.5    4  185.60\n",
       "2    0.75  0.5  0.5  2.50  2.5  2.5  2.5  2.5  2.5    4  203.60\n",
       "3    0.75  0.5  0.5  2.50  2.5  2.5  2.5  2.5  2.5    4  190.20\n",
       "4    0.75  0.5  0.5  2.50  2.5  2.5  2.5  2.5  2.5    4  193.80\n",
       "..    ...  ...  ...   ...  ...  ...  ...  ...  ...  ...     ...\n",
       "524  0.75  0.5  2.5  0.75  1.5  1.5  0.5  0.5  0.5    8  192.07\n",
       "525  0.75  0.5  2.5  2.50  1.5  1.5  0.5  0.5  0.5    8  196.80\n",
       "526  0.75  0.5  2.5  2.50  1.5  1.5  0.5  0.5  0.5    8  206.73\n",
       "527  0.75  0.5  2.5  2.50  1.5  1.5  0.5  0.5  0.5    8  172.46\n",
       "528  1.50  0.5  0.5  0.75  1.5  2.5  0.5  2.5  2.5    6  149.80\n",
       "\n",
       "[528 rows x 11 columns]"
      ]
     },
     "execution_count": 64,
     "metadata": {},
     "output_type": "execute_result"
    }
   ],
   "source": [
    "df_final"
   ]
  },
  {
   "cell_type": "code",
   "execution_count": 48,
   "metadata": {},
   "outputs": [
    {
     "name": "stdout",
     "output_type": "stream",
     "text": [
      "(528, 10) (528,)\n"
     ]
    }
   ],
   "source": [
    "xh=xh.values\n",
    "yh=yh.values\n",
    "print(xh.shape,yh.shape)"
   ]
  },
  {
   "cell_type": "code",
   "execution_count": 58,
   "metadata": {},
   "outputs": [
    {
     "name": "stdout",
     "output_type": "stream",
     "text": [
      "mae: 16.521 (2.413)\n"
     ]
    },
    {
     "data": {
      "text/plain": [
       "'\\nX_train,X_test,Y_train,Y_test=train_test_split(xh,yh,random_state=42,test_size=0.33)\\nfrom sklearn.preprocessing import MinMaxScaler\\nmm=MinMaxScaler()\\nmm.fit(X_train)\\nX_train=mm.transform(X_train)\\nX_test=mm.transform(X_test)\\nbg_model.fit(X_train,Y_train)\\n'"
      ]
     },
     "execution_count": 58,
     "metadata": {},
     "output_type": "execute_result"
    }
   ],
   "source": [
    "from sklearn.ensemble import RandomForestRegressor  \n",
    "model_rr=RandomForestRegressor(n_estimators=14,max_depth=4,random_state=42,criterion='squared_error')\n",
    "from sklearn.ensemble import BaggingRegressor\n",
    "from sklearn.preprocessing import MinMaxScaler\n",
    "from sklearn.metrics import mean_squared_error as mse\n",
    "from sklearn.metrics import mean_absolute_error as mae\n",
    "scaler=MinMaxScaler()\n",
    "bg_model=BaggingRegressor(estimator=model_rr,n_estimators=2,random_state=42)\n",
    "\n",
    "mse_scores=[]\n",
    "kf = KFold(n_splits=20, random_state=42, shuffle=True)\n",
    "for train_index, test_index in kf.split(xh):\n",
    "    X_train, X_test = xh[train_index], xh[test_index]\n",
    "    y_train, y_test = yh[train_index], yh[test_index]\n",
    "    \n",
    "    # Fit the scaler on training data\n",
    "    scaler.fit(X_train)\n",
    "    \n",
    "    # Transform the training and test data\n",
    "    X_train_scaled = scaler.transform(X_train)\n",
    "    X_test_scaled = scaler.transform(X_test)\n",
    "    \n",
    "    # Train the model\n",
    "    bg_model.fit(X_train_scaled, y_train)\n",
    "    \n",
    "    # Predict and evaluate\n",
    "    y_pred = bg_model.predict(X_test_scaled)\n",
    "    msee = mae(y_test, y_pred)\n",
    "    mse_scores.append(msee)\n",
    "\n",
    "\n",
    "print('mae: %.3f (%.3f)' % (np.mean(mse_scores), np.std(mse_scores)))\n",
    "\n",
    "\"\"\"\n",
    "X_train,X_test,Y_train,Y_test=train_test_split(xh,yh,random_state=42,test_size=0.33)\n",
    "from sklearn.preprocessing import MinMaxScaler\n",
    "mm=MinMaxScaler()\n",
    "mm.fit(X_train)\n",
    "X_train=mm.transform(X_train)\n",
    "X_test=mm.transform(X_test)\n",
    "bg_model.fit(X_train,Y_train)\n",
    "\"\"\"\n",
    " "
   ]
  },
  {
   "cell_type": "code",
   "execution_count": 59,
   "metadata": {},
   "outputs": [
    {
     "data": {
      "text/plain": [
       "['model_br.pkl']"
      ]
     },
     "execution_count": 59,
     "metadata": {},
     "output_type": "execute_result"
    }
   ],
   "source": [
    "scaler.fit(xh)\n",
    "bigx= scaler.transform(xh)\n",
    "bg_model.fit(bigx,yh)\n",
    "joblib.dump(bg_model,'model_br.pkl')"
   ]
  },
  {
   "cell_type": "code",
   "execution_count": null,
   "metadata": {},
   "outputs": [],
   "source": []
  }
 ],
 "metadata": {
  "kernelspec": {
   "display_name": "Python 3",
   "language": "python",
   "name": "python3"
  },
  "language_info": {
   "codemirror_mode": {
    "name": "ipython",
    "version": 3
   },
   "file_extension": ".py",
   "mimetype": "text/x-python",
   "name": "python",
   "nbconvert_exporter": "python",
   "pygments_lexer": "ipython3",
   "version": "3.12.4"
  }
 },
 "nbformat": 4,
 "nbformat_minor": 2
}
